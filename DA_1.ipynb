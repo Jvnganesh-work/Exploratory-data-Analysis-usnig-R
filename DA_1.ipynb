{
  "nbformat": 4,
  "nbformat_minor": 0,
  "metadata": {
    "colab": {
      "provenance": []
    },
    "kernelspec": {
      "name": "python3",
      "display_name": "Python 3"
    },
    "language_info": {
      "name": "python"
    }
  },
  "cells": [
    {
      "cell_type": "code",
      "source": [
        "from google.colab import drive\n",
        "drive.mount('/content/drive')"
      ],
      "metadata": {
        "colab": {
          "base_uri": "https://localhost:8080/"
        },
        "id": "B2hyW2amdbqf",
        "outputId": "5d12e703-3472-4417-e1f4-f2dfd0569533"
      },
      "execution_count": 15,
      "outputs": [
        {
          "output_type": "stream",
          "name": "stdout",
          "text": [
            "Drive already mounted at /content/drive; to attempt to forcibly remount, call drive.mount(\"/content/drive\", force_remount=True).\n"
          ]
        }
      ]
    },
    {
      "cell_type": "code",
      "execution_count": 16,
      "metadata": {
        "colab": {
          "base_uri": "https://localhost:8080/"
        },
        "id": "B_xZbU_aco27",
        "outputId": "bfc0dcd5-7347-4a8c-91b9-ef551465cf4a"
      },
      "outputs": [
        {
          "output_type": "stream",
          "name": "stdout",
          "text": [
            "<class 'pandas.core.frame.DataFrame'>\n",
            "RangeIndex: 420 entries, 0 to 419\n",
            "Data columns (total 15 columns):\n",
            " #   Column       Non-Null Count  Dtype  \n",
            "---  ------       --------------  -----  \n",
            " 0   rownames     420 non-null    int64  \n",
            " 1   district     420 non-null    int64  \n",
            " 2   school       420 non-null    object \n",
            " 3   county       420 non-null    object \n",
            " 4   grades       420 non-null    object \n",
            " 5   students     420 non-null    int64  \n",
            " 6   teachers     420 non-null    float64\n",
            " 7   calworks     420 non-null    float64\n",
            " 8   lunch        420 non-null    float64\n",
            " 9   computer     420 non-null    int64  \n",
            " 10  expenditure  420 non-null    float64\n",
            " 11  income       420 non-null    float64\n",
            " 12  english      420 non-null    float64\n",
            " 13  read         420 non-null    float64\n",
            " 14  math         420 non-null    float64\n",
            "dtypes: float64(8), int64(4), object(3)\n",
            "memory usage: 49.3+ KB\n"
          ]
        },
        {
          "output_type": "execute_result",
          "data": {
            "text/plain": [
              "{'Head':    rownames  district                           school   county grades  \\\n",
              " 0         1     75119               Sunol Glen Unified  Alameda  KK-08   \n",
              " 1         2     61499             Manzanita Elementary    Butte  KK-08   \n",
              " 2         3     61549      Thermalito Union Elementary    Butte  KK-08   \n",
              " 3         4     61457  Golden Feather Union Elementary    Butte  KK-08   \n",
              " 4         5     61523         Palermo Union Elementary    Butte  KK-08   \n",
              " \n",
              "    students   teachers   calworks      lunch  computer  expenditure  \\\n",
              " 0       195  10.900000   0.510200   2.040800        67  6384.911133   \n",
              " 1       240  11.150000  15.416700  47.916698       101  5099.380859   \n",
              " 2      1550  82.900002  55.032299  76.322601       169  5501.954590   \n",
              " 3       243  14.000000  36.475399  77.049202        85  7101.831055   \n",
              " 4      1335  71.500000  33.108601  78.427002       171  5235.987793   \n",
              " \n",
              "       income    english        read        math  \n",
              " 0  22.690001   0.000000  691.599976  690.000000  \n",
              " 1   9.824000   4.583333  660.500000  661.900024  \n",
              " 2   8.978000  30.000002  636.299988  650.900024  \n",
              " 3   8.978000   0.000000  651.900024  643.500000  \n",
              " 4   9.080333  13.857677  641.799988  639.900024  ,\n",
              " 'Shape': (420, 15),\n",
              " 'Info': None,\n",
              " 'Description':          rownames      district      students     teachers    calworks  \\\n",
              " count  420.000000    420.000000    420.000000   420.000000  420.000000   \n",
              " mean   210.500000  67472.809524   2628.792857   129.067376   13.246042   \n",
              " std    121.387808   3466.994655   3913.104985   187.912679   11.454821   \n",
              " min      1.000000  61382.000000     81.000000     4.850000    0.000000   \n",
              " 25%    105.750000  64307.750000    379.000000    19.662499    4.395375   \n",
              " 50%    210.500000  67760.500000    950.500000    48.564999   10.520450   \n",
              " 75%    315.250000  70419.000000   3008.000000   146.350002   18.981350   \n",
              " max    420.000000  75440.000000  27176.000000  1429.000000   78.994202   \n",
              " \n",
              "             lunch     computer  expenditure      income     english  \\\n",
              " count  420.000000   420.000000   420.000000  420.000000  420.000000   \n",
              " mean    44.705237   303.383333  5312.407541   15.316588   15.768155   \n",
              " std     27.123381   441.341298   633.937053    7.225890   18.285927   \n",
              " min      0.000000     0.000000  3926.069580    5.335000    0.000000   \n",
              " 25%     23.282200    46.000000  4906.180054   10.639000    1.940807   \n",
              " 50%     41.750700   117.500000  5214.516602   13.727800    8.777634   \n",
              " 75%     66.864725   375.250000  5601.401367   17.629001   22.970003   \n",
              " max    100.000000  3324.000000  7711.506836   55.327999   85.539719   \n",
              " \n",
              "              read        math  \n",
              " count  420.000000  420.000000  \n",
              " mean   654.970477  653.342619  \n",
              " std     20.107980   18.754202  \n",
              " min    604.500000  605.400024  \n",
              " 25%    640.400024  639.375015  \n",
              " 50%    655.750000  652.449982  \n",
              " 75%    668.725006  665.849991  \n",
              " max    704.000000  709.500000  }"
            ]
          },
          "metadata": {},
          "execution_count": 16
        }
      ],
      "source": [
        "import pandas as pd\n",
        "\n",
        "file_path = '/content/drive/MyDrive/EDA-LAB/DA-1\\/CASchools.csv'\n",
        "data = pd.read_csv(file_path)\n",
        "\n",
        "data_info = {\n",
        "    \"Head\": data.head(),\n",
        "    \"Shape\": data.shape,\n",
        "    \"Info\": data.info(),\n",
        "    \"Description\": data.describe()\n",
        "}\n",
        "\n",
        "data_info"
      ]
    },
    {
      "cell_type": "code",
      "source": [
        "import matplotlib.pyplot as plt\n",
        "import seaborn as sns\n",
        "\n",
        "\n",
        "sns.set(style=\"whitegrid\")\n",
        "sns.set_palette(\"viridis\")\n",
        "\n",
        "features = data.drop(columns=['math', 'rownames', 'school'])\n",
        "\n",
        "\n"
      ],
      "metadata": {
        "id": "ZW9EOVxic2SN"
      },
      "execution_count": 17,
      "outputs": []
    },
    {
      "cell_type": "code",
      "source": [
        "from sklearn.preprocessing import LabelEncoder, StandardScaler\n",
        "label_encoders = {}\n",
        "for column in features.select_dtypes(include=['object']).columns:\n",
        "    le = LabelEncoder()\n",
        "    features[column] = le.fit_transform(features[column])\n",
        "    label_encoders[column] = le\n",
        "\n"
      ],
      "metadata": {
        "id": "JFJIlJ8VdyUU"
      },
      "execution_count": 18,
      "outputs": []
    },
    {
      "cell_type": "code",
      "source": [
        "# Standardize numerical features for visual consistency\n",
        "scaler = StandardScaler()\n",
        "numerical_features = features.select_dtypes(include=['int64', 'float64']).columns\n",
        "features[numerical_features] = scaler.fit_transform(features[numerical_features])\n",
        "\n"
      ],
      "metadata": {
        "id": "POmSki3ZFAQC"
      },
      "execution_count": 19,
      "outputs": []
    },
    {
      "cell_type": "code",
      "source": [
        "# 2. Univariate Analysis - Histograms and box plots for numerical features\n",
        "fig, axes = plt.subplots(len(numerical_features), 2, figsize=(12, 4 * len(numerical_features)))\n",
        "\n",
        "for i, col in enumerate(numerical_features):\n",
        "    # Histogram\n",
        "    sns.histplot(features[col], kde=True, ax=axes[i, 0])\n",
        "    axes[i, 0].set_title(f'Histogram of {col}')\n",
        "\n",
        "    # Box plot\n",
        "    sns.boxplot(x=features[col], ax=axes[i, 1])\n",
        "    axes[i, 1].set_title(f'Box Plot of {col}')\n",
        "\n",
        "plt.tight_layout()\n",
        "plt.show()\n",
        "\n"
      ],
      "metadata": {
        "id": "KyiY6gaDFB8c"
      },
      "execution_count": null,
      "outputs": []
    },
    {
      "cell_type": "code",
      "source": [
        "# 3. Bivariate Analysis - Correlation Matrix Heatmap\n",
        "plt.figure(figsize=(10, 8))\n",
        "correlation_matrix = features.corr()\n",
        "sns.heatmap(correlation_matrix, annot=True, fmt=\".2f\", cmap=\"coolwarm\", cbar=True)\n",
        "plt.title(\"Correlation Matrix of Features\")\n",
        "plt.show()\n"
      ],
      "metadata": {
        "id": "yzy01CleFDgA"
      },
      "execution_count": null,
      "outputs": []
    },
    {
      "cell_type": "code",
      "source": [
        "# Additional Bivariate Analysis - Scatter Plots for Selected Pairs\n",
        "selected_pairs = [('students', 'teachers'), ('income', 'expenditure'), ('read', 'lunch')]\n",
        "for x, y in selected_pairs:\n",
        "    plt.figure(figsize=(8, 6))\n",
        "    sns.scatterplot(data=features, x=x, y=y)\n",
        "    plt.title(f'Scatter Plot: {x} vs {y}')\n",
        "    plt.xlabel(x)\n",
        "    plt.ylabel(y)\n",
        "    plt.show()\n",
        "\n"
      ],
      "metadata": {
        "id": "dlg-pKWcF3Li"
      },
      "execution_count": null,
      "outputs": []
    },
    {
      "cell_type": "code",
      "source": [
        "# 4. Multivariate Analysis - Pair Plot\n",
        "try:\n",
        "    sns.pairplot(features, diag_kind='kde', plot_kws={'alpha': 0.5})\n",
        "    plt.suptitle(\"Pair Plot of Numerical Variables\", y=1.02)\n",
        "    plt.show()\n",
        "except Exception as e:\n",
        "    print(\"Pair plot generation encountered an issue:\", e)\n",
        "\n"
      ],
      "metadata": {
        "id": "wei4uPZTF460"
      },
      "execution_count": null,
      "outputs": []
    },
    {
      "cell_type": "code",
      "source": [
        "# Multivariate Analysis - Exploring Relationships with Boxplots\n",
        "plt.figure(figsize=(12, 6))\n",
        "sns.boxplot(x='grades', y='read', data=data)\n",
        "plt.title('Boxplot of Grades vs Reading Scores')\n",
        "plt.xlabel('Grades')\n",
        "plt.ylabel('Reading Scores')\n",
        "plt.show()\n",
        "\n"
      ],
      "metadata": {
        "id": "Gou-Z6hmG8bJ"
      },
      "execution_count": null,
      "outputs": []
    },
    {
      "cell_type": "code",
      "source": [
        "plt.figure(figsize=(12, 6))\n",
        "sns.boxplot(x='grades', y='math', data=data)\n",
        "plt.title('Boxplot of Grades vs Math Scores')\n",
        "plt.xlabel('Grades')\n",
        "plt.ylabel('Math Scores')\n",
        "plt.show()\n"
      ],
      "metadata": {
        "id": "1XsTyRrtG-Oa"
      },
      "execution_count": null,
      "outputs": []
    },
    {
      "cell_type": "code",
      "source": [
        "# 5. Additional EDA Methods\n",
        "\n",
        "# Categorical Data Analysis - Bar Plots for Categorical Variables\n",
        "categorical_columns = data.select_dtypes(include=['object']).columns\n",
        "for col in categorical_columns:\n",
        "    plt.figure(figsize=(10, 6))\n",
        "    sns.countplot(x=col, data=data)\n",
        "    plt.title(f'Count Plot of {col}')\n",
        "    plt.xlabel(col)\n",
        "    plt.ylabel('Count')\n",
        "    plt.show()\n",
        "\n"
      ],
      "metadata": {
        "id": "6gWfqKNnGl0M"
      },
      "execution_count": null,
      "outputs": []
    },
    {
      "cell_type": "code",
      "source": [
        "# Outlier Detection - Z-Score Method\n",
        "from scipy import stats\n",
        "for col in numerical_features:\n",
        "    z_scores = stats.zscore(features[col])\n",
        "    outliers = (abs(z_scores) > 3)\n",
        "    print(f\"Number of outliers in {col}: {sum(outliers)}\")\n",
        "\n"
      ],
      "metadata": {
        "id": "Qph00jffGs-n"
      },
      "execution_count": null,
      "outputs": []
    },
    {
      "cell_type": "code",
      "source": [
        "# PCA for Dimensionality Reduction\n",
        "from sklearn.decomposition import PCA\n",
        "pca = PCA(n_components=2)\n",
        "pca_features = pca.fit_transform(features[numerical_features])\n",
        "\n",
        "plt.figure(figsize=(10, 6))\n",
        "sns.scatterplot(x=pca_features[:, 0], y=pca_features[:, 1], hue=data['grades'], palette='viridis')\n",
        "plt.title('PCA of Numerical Features')\n",
        "plt.xlabel('Principal Component 1')\n",
        "plt.ylabel('Principal Component 2')\n",
        "plt.show()\n",
        "\n"
      ],
      "metadata": {
        "id": "Tipn9NTIGu15"
      },
      "execution_count": null,
      "outputs": []
    },
    {
      "cell_type": "code",
      "source": [
        "# Clustering - KMeans for Segmentation\n",
        "from sklearn.cluster import KMeans\n",
        "kmeans = KMeans(n_clusters=3, random_state=42)\n",
        "features['Cluster'] = kmeans.fit_predict(features[numerical_features])\n",
        "\n",
        "plt.figure(figsize=(10, 6))\n",
        "sns.scatterplot(x=features['income'], y=features['expenditure'], hue=features['Cluster'], palette='viridis')\n",
        "plt.title('KMeans Clustering of Features')\n",
        "plt.xlabel('Income')\n",
        "plt.ylabel('Expenditure')\n",
        "plt.show()\n"
      ],
      "metadata": {
        "id": "qDtseP4VGwnc"
      },
      "execution_count": null,
      "outputs": []
    }
  ]
}